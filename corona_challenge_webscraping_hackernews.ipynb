{
 "cells": [
  {
   "cell_type": "markdown",
   "metadata": {},
   "source": [
    "# Web scraping: Hacker News \n",
    "\n",
    "\n",
    "Link: \"https://nieuwscheckers.nl/nieuwscheckers/\" \n",
    "\n",
    "\n",
    "Github Link: https://reproducible-science-curriculum.github.io/sharing-RR-Jupyter/01-sharing-github/   \n",
    "\n",
    "\n",
    "\n",
    "\n"
   ]
  },
  {
   "cell_type": "code",
   "execution_count": 1,
   "metadata": {},
   "outputs": [],
   "source": [
    "import requests\n",
    "from bs4 import BeautifulSoup\n",
    "import pandas as pd\n",
    "import numpy as np\n",
    "from urllib.parse import urljoin \n",
    "\n",
    "headers = {\"Accept-Language\": \"en-US, en;q=0.5\"}\n",
    "base_site = \"https://nieuwscheckers.nl/nieuwscheckers/\"\n",
    "results = requests.get(base_site, headers=headers)\n",
    "#results.status_code # working \n",
    "\n",
    "response = results.content\n",
    "soup = BeautifulSoup(response, 'lxml')\n",
    "\n",
    "with open(\".....\\hackernews_002.html\", 'wb') as file:\n",
    "    file.write(soup.prettify('utf-8'))"
   ]
  },
  {
   "cell_type": "code",
   "execution_count": 2,
   "metadata": {},
   "outputs": [
    {
     "data": {
      "text/plain": [
       "['https://nieuwscheckers.nl/nieuwscheckers',\n",
       " 'https://nieuwscheckers.nl/nieuwscheckers',\n",
       " 'https://nieuwscheckers.nl/nieuwscheckers/kans-op-besmetting-met-coronavirus-groter-in-gesloten-ruimtes/',\n",
       " 'https://nieuwscheckers.nl/nieuwscheckers/onbewezen-luchtvochtigheid-sleutelfactor-verspreiding-coronavirus/',\n",
       " 'https://nieuwscheckers.nl/nieuwscheckers/geen-toename-van-meldingen-maar-dat-zegt-niks-over-omvang-huiselijk-geweld-tijdens-corona-lockdown/',\n",
       " 'https://nieuwscheckers.nl/nieuwscheckers/te-weinig-bewijs-dat-niet-sporten-ongezonder-is-dan-roken/',\n",
       " 'https://nieuwscheckers.nl/nieuwscheckers/te-weinig-bewijs-dat-niet-sporten-ongezonder-is-dan-roken/',\n",
       " 'https://nieuwscheckers.nl/nieuwscheckers/mos-roken-wiet-blijft-logischer-keuze/',\n",
       " 'https://nieuwscheckers.nl/nieuwscheckers/mos-roken-wiet-blijft-logischer-keuze/',\n",
       " 'https://nieuwscheckers.nl/nieuwscheckers/maatschappelijke-kosten-burn-out-veel-lager-dan-beweerd/',\n",
       " 'https://nieuwscheckers.nl/nieuwscheckers/maatschappelijke-kosten-burn-out-veel-lager-dan-beweerd/',\n",
       " 'https://nieuwscheckers.nl/nieuwscheckers/werking-wisseldouche-tegen-stijve-spieren-is-deels-placebo-effect/',\n",
       " 'https://nieuwscheckers.nl/nieuwscheckers/werking-wisseldouche-tegen-stijve-spieren-is-deels-placebo-effect/',\n",
       " 'https://nieuwscheckers.nl/nieuwscheckers/relatie-voeding-en-stemming-nog-te-onzeker-voor-dieetadvies/',\n",
       " 'https://nieuwscheckers.nl/nieuwscheckers/relatie-voeding-en-stemming-nog-te-onzeker-voor-dieetadvies/',\n",
       " 'https://nieuwscheckers.nl/nieuwscheckers/elektrisch-rijden-leidt-vooralsnog-tot-papieren-files/',\n",
       " 'https://nieuwscheckers.nl/nieuwscheckers/elektrisch-rijden-leidt-vooralsnog-tot-papieren-files/',\n",
       " 'https://nieuwscheckers.nl/nieuwscheckers/broodje-aap-dieven-met-verdovende-mondkapjes/',\n",
       " 'https://nieuwscheckers.nl/nieuwscheckers/broodje-aap-dieven-met-verdovende-mondkapjes/',\n",
       " 'https://nieuwscheckers.nl/nieuwscheckers/fotos-coronaslachtoffers-niet-hergebruikt-door-nieuwsmedia/',\n",
       " 'https://nieuwscheckers.nl/nieuwscheckers/fotos-coronaslachtoffers-niet-hergebruikt-door-nieuwsmedia/',\n",
       " 'https://nieuwscheckers.nl/nieuwscheckers/trump-beschuldigt-nancy-pelosi-ten-onrechte-van-verwijderen-twittervideo/',\n",
       " 'https://nieuwscheckers.nl/nieuwscheckers/trump-beschuldigt-nancy-pelosi-ten-onrechte-van-verwijderen-twittervideo/',\n",
       " 'https://nieuwscheckers.nl/nieuwscheckers/corona-ontkenners-beschuldigen-daily-mail-ten-onrechte-van-misleiding-over-massagraf-new-york/',\n",
       " 'https://nieuwscheckers.nl/nieuwscheckers/corona-ontkenners-beschuldigen-daily-mail-ten-onrechte-van-misleiding-over-massagraf-new-york/',\n",
       " 'https://nieuwscheckers.nl/nieuwscheckers/vervalst-screenshot-telegraaf-nl-claimt-verband-coronavirus-en-5g/',\n",
       " 'https://nieuwscheckers.nl/nieuwscheckers/vervalst-screenshot-telegraaf-nl-claimt-verband-coronavirus-en-5g/',\n",
       " 'https://nieuwscheckers.nl/nieuwscheckers/viraal-gedicht-over-lockdown-is-van-nu-niet-uit-tijd-van-spaanse-griep/',\n",
       " 'https://nieuwscheckers.nl/nieuwscheckers/viraal-gedicht-over-lockdown-is-van-nu-niet-uit-tijd-van-spaanse-griep/',\n",
       " 'https://nieuwscheckers.nl/nieuwscheckers/fake-bericht-over-bekering-italiaanse-arts-is-hit-op-christelijk-internet/',\n",
       " 'https://nieuwscheckers.nl/nieuwscheckers/youtube-doneert-niet-aan-ziekenhuis-in-bergamo-voor-iedere-klik-op-deze-video/',\n",
       " 'https://nieuwscheckers.nl/nieuwscheckers/waarom-knmi-satellietbeeld-van-stikstofdaling-niets-zegt-over-stikstofuitstoot-boeren/',\n",
       " 'https://nieuwscheckers.nl/nieuwscheckers/sint-corona-sinds-kort-beschermheilige-tegen-epidemieen/',\n",
       " 'https://nieuwscheckers.nl/nieuwscheckers/broodje-aap-over-desinfectie-door-5-helicopters-raast-de-wereld-rond/',\n",
       " 'https://nieuwscheckers.nl/nieuwscheckers/het-lukt-facebook-niet-deze-doodgecheckte-coronaclaims-te-labelen-als-nepnieuws/',\n",
       " 'https://nieuwscheckers.nl/nieuwscheckers/zelf-coronaberichten-checken-gebruik-halt/',\n",
       " 'https://nieuwscheckers.nl/nieuwscheckers/geen-corona-rijswijkseplein-halt/',\n",
       " 'https://nieuwscheckers.nl/nieuwscheckers/nasa-gaf-niet-toe-dat-zon-huidige-klimaatverandering-veroorzaakt/',\n",
       " 'https://nieuwscheckers.nl/nieuwscheckers/zon-70-procent-van-instroom-heeft-geen-recht-op-asiel%ef%bb%bf/',\n",
       " 'https://nieuwscheckers.nl/nieuwscheckers/16-vragen-over-de-ad-ziekenhuis-top-100/',\n",
       " 'https://nieuwscheckers.nl/nieuwscheckers/aantal-asielzoekers-in-2018-leidt-niet-tot-100-duizend-nieuwe-nederlanders/',\n",
       " 'https://nieuwscheckers.nl/nieuwscheckers/telegraaf-brengt-satire-als-nieuws-man-48-doodt-muggen-met-zijn-scheten/',\n",
       " 'https://nieuwscheckers.nl/nieuwscheckers/sollicitatiehulp-cvster-loog-tegen-nos-en-ad-over-verzonnen-medewerkers/',\n",
       " 'https://nieuwscheckers.nl/nieuwscheckers/is-95-van-de-nederlanders-blij-met-zwarte-piet/',\n",
       " 'https://nieuwscheckers.nl/nieuwscheckers/psychologie-als-studiekeuze-levert-niet-de-meeste-spijt-op/',\n",
       " 'https://nieuwscheckers.nl/nieuwscheckers/nieuws-over-extreme-haaruitval-bij-40ers-is-reclame-voor-haarbranche/',\n",
       " 'https://nieuwscheckers.nl/nieuwscheckers/vrouwen-liegen-vaker-dan-mannen-daarvoor-is-geen-bewijs/',\n",
       " 'https://nieuwscheckers.nl/nieuwscheckers/betaald-door-jumbo-brengt-rtl-nep-peiling-over-lunchvoorkeur-nederlanders/',\n",
       " 'https://nieuwscheckers.nl/nieuwscheckers/azcs-niet-vol-met-mensen-uit-veilige-landen/',\n",
       " 'https://nieuwscheckers.nl/nieuwscheckers/war-on-christmas-of-seizoensmarketing-lidl-en-ikea-doen-kerst-niet-in-de-ban%ef%bb%bf/',\n",
       " 'https://nieuwscheckers.nl/nieuwscheckers/onaardig-door-te-veel-sporten-dat-is-niet-onderzocht/',\n",
       " 'https://nieuwscheckers.nl/nieuwscheckers/is-thee-drinken-goed-voor-je-hersens-dat-is-niet-bewezen/',\n",
       " 'https://nieuwscheckers.nl/nieuwscheckers/ondernemers-brexitbang-of-brexitmoe/',\n",
       " 'https://nieuwscheckers.nl/nieuwscheckers/hebben-rebelse-kinderen-later-de-beter-betalende-banen/',\n",
       " 'https://nieuwscheckers.nl/nieuwscheckers/de-lokale-factchecker-is-geen-scheidsrechter-maar-verbreedt-en-verdiept-het-politieke-debat-een-evaluatie-van-factcheck071/',\n",
       " 'https://nieuwscheckers.nl/nieuwscheckers/waar-is-die-foto-gemaakt-zo-achterhaal-je-dat-met-invid/',\n",
       " 'https://nieuwscheckers.nl/nieuwscheckers/factcheck071-meeste-en-ernstigste-ongelukken-door-illegaal-vuurwerk/',\n",
       " 'https://nieuwscheckers.nl/nieuwscheckers/bevroren-fruit-en-groenten-bevatten-evenveel-vitaminen-als-de-verse-varianten/',\n",
       " 'https://nieuwscheckers.nl/nieuwscheckers/de-politie-schiet-in-rio-de-janeiro-elke-dag-vijf-mensen-dood/']"
      ]
     },
     "execution_count": 2,
     "metadata": {},
     "output_type": "execute_result"
    }
   ],
   "source": [
    "links = soup.find_all('a')\n",
    "#len(links) # 59 links\n",
    "#links\n",
    "\n",
    "list_links = [l.get('href') for l in links]\n",
    "list_links"
   ]
  },
  {
   "cell_type": "code",
   "execution_count": null,
   "metadata": {},
   "outputs": [],
   "source": []
  }
 ],
 "metadata": {
  "kernelspec": {
   "display_name": "Python 3",
   "language": "python",
   "name": "python3"
  },
  "language_info": {
   "codemirror_mode": {
    "name": "ipython",
    "version": 3
   },
   "file_extension": ".py",
   "mimetype": "text/x-python",
   "name": "python",
   "nbconvert_exporter": "python",
   "pygments_lexer": "ipython3",
   "version": "3.7.7"
  }
 },
 "nbformat": 4,
 "nbformat_minor": 4
}
